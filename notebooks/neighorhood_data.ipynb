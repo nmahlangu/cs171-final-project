{
 "cells": [
  {
   "cell_type": "code",
   "execution_count": 18,
   "metadata": {
    "collapsed": true
   },
   "outputs": [],
   "source": [
    "import requests\n",
    "import json\n",
    "\n",
    "# for more info, visit\n",
    "# https://developers.google.com/maps/documentation/geocoding/get-api-key#get-an-api-key\n",
    "MAPS_URL = \"https://maps.googleapis.com/maps/api/geocode/json?latlng={lat},{long}&key={api_key}\""
   ]
  },
  {
   "cell_type": "code",
   "execution_count": 19,
   "metadata": {
    "collapsed": false
   },
   "outputs": [],
   "source": [
    "# restuarant data\n",
    "# print restaurant_data[\"63763\"] to see example business\n",
    "with open(\"../data/json/restaurant_data_formatted.json\") as json_data:\n",
    "    restaurant_data = json.load(json_data)\n",
    "restaurant_data = restaurant_data[0]"
   ]
  },
  {
   "cell_type": "code",
   "execution_count": 20,
   "metadata": {
    "collapsed": false
   },
   "outputs": [
    {
     "name": "stdout",
     "output_type": "stream",
     "text": [
      "{u'business_data': {u'phone_number': None, u'city': u'SF', u'TaxCode': u'H25', u'owner_state': u'CA', u'name': u'Wild Pepper', u'owner_city': u'SF', u'business_id': 63763, u'business_certificate': 451448.0, u'owner_name': u'Eastern Pegasus, Inc.', u'owner_zip': u'94116', u'longitude': -122.42156899999999, u'address': u'3601 26th St ', u'latitude': 37.748813, u'postal_code': u'94110', u'application_date': u'07/22/2010', u'owner_address': u'2338 45th Ave'}, u'inspection_data': [{u'date': 20150407, u'Score': 76.0, u'type': u'Routine - Unscheduled', u'business_id': 63763}, {u'date': 20141029, u'Score': 82.0, u'type': u'Routine - Unscheduled', u'business_id': 63763}, {u'date': 20140303, u'Score': None, u'type': u'Reinspection/Followup', u'business_id': 63763}, {u'date': 20140205, u'Score': 91.0, u'type': u'Routine - Unscheduled', u'business_id': 63763}, {u'date': 20130805, u'Score': None, u'type': u'Reinspection/Followup', u'business_id': 63763}, {u'date': 20130722, u'Score': None, u'type': u'Reinspection/Followup', u'business_id': 63763}, {u'date': 20130715, u'Score': 81.0, u'type': u'Routine - Unscheduled', u'business_id': 63763}], u'violation_data': [{u'date': 20140205, u'risk_category': u'High Risk', u'description': u'High risk food holding temperature ', u'ViolationTypeID': 103103, u'business_id': 63763}, {u'date': 20140205, u'risk_category': u'Low Risk', u'description': u'Unclean nonfood contact surfaces', u'ViolationTypeID': 103142, u'business_id': 63763}, {u'date': 20141029, u'risk_category': u'Low Risk', u'description': u'Improper food storage', u'ViolationTypeID': 103139, u'business_id': 63763}, {u'date': 20141029, u'risk_category': u'High Risk', u'description': u'High risk vermin infestation', u'ViolationTypeID': 103114, u'business_id': 63763}, {u'date': 20141029, u'risk_category': u'High Risk', u'description': u'High risk food holding temperature ', u'ViolationTypeID': 103103, u'business_id': 63763}, {u'date': 20141029, u'risk_category': u'Low Risk', u'description': u'Unclean or degraded floors walls or ceilings', u'ViolationTypeID': 103154, u'business_id': 63763}, {u'date': 20150407, u'risk_category': u'High Risk', u'description': u'High risk food holding temperature ', u'ViolationTypeID': 103103, u'business_id': 63763}, {u'date': 20150407, u'risk_category': u'Low Risk', u'description': u'Low risk vermin infestation', u'ViolationTypeID': 103161, u'business_id': 63763}, {u'date': 20150407, u'risk_category': u'Low Risk', u'description': u'Improperly washed fruits and vegetables', u'ViolationTypeID': 103137, u'business_id': 63763}, {u'date': 20150407, u'risk_category': u'Moderate Risk', u'description': u'Foods not protected from contamination', u'ViolationTypeID': 103133, u'business_id': 63763}, {u'date': 20150407, u'risk_category': u'Low Risk', u'description': u'Unclean or degraded floors walls or ceilings', u'ViolationTypeID': 103154, u'business_id': 63763}, {u'date': 20150407, u'risk_category': u'High Risk', u'description': u'Unclean hands or improper use of gloves', u'ViolationTypeID': 103102, u'business_id': 63763}, {u'date': 20130715, u'risk_category': u'High Risk', u'description': u'Unclean hands or improper use of gloves', u'ViolationTypeID': 103102, u'business_id': 63763}, {u'date': 20130715, u'risk_category': u'Moderate Risk', u'description': u'Moderate risk food holding temperature ', u'ViolationTypeID': 103120, u'business_id': 63763}, {u'date': 20130715, u'risk_category': u'Low Risk', u'description': u'Low risk vermin infestation', u'ViolationTypeID': 103161, u'business_id': 63763}, {u'date': 20130715, u'risk_category': u'Low Risk', u'description': u'Wiping cloths not clean or properly stored or inadequate sanitizer', u'ViolationTypeID': 103149, u'business_id': 63763}, {u'date': 20130715, u'risk_category': u'Low Risk', u'description': u'Improper storage of equipment utensils or linens', u'ViolationTypeID': 103145, u'business_id': 63763}, {u'date': 20130715, u'risk_category': u'Low Risk', u'description': u'Unclean nonfood contact surfaces', u'ViolationTypeID': 103142, u'business_id': 63763}]}\n"
     ]
    }
   ],
   "source": [
    "print restaurant_data[\"63763\"]"
   ]
  },
  {
   "cell_type": "code",
   "execution_count": null,
   "metadata": {
    "collapsed": true
   },
   "outputs": [],
   "source": [
    "for business_id in restaurant_data:\n",
    "    business_data = restaurant_data[business_id]\n",
    "    latitude = business_data[\"latitude\"]\n",
    "    longitude = business_data[\"longitude\"]\n",
    "    \n",
    "    url = MAP_URL\n",
    "    \n",
    "    break"
   ]
  }
 ],
 "metadata": {
  "kernelspec": {
   "display_name": "Python 2",
   "language": "python",
   "name": "python2"
  },
  "language_info": {
   "codemirror_mode": {
    "name": "ipython",
    "version": 2
   },
   "file_extension": ".py",
   "mimetype": "text/x-python",
   "name": "python",
   "nbconvert_exporter": "python",
   "pygments_lexer": "ipython2",
   "version": "2.7.10"
  }
 },
 "nbformat": 4,
 "nbformat_minor": 0
}
