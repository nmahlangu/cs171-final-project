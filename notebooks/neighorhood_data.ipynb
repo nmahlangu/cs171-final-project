{
 "cells": [
  {
   "cell_type": "markdown",
   "metadata": {},
   "source": [
    "# Creates restaurant_data_filtered.json"
   ]
  },
  {
   "cell_type": "code",
   "execution_count": 154,
   "metadata": {
    "collapsed": false
   },
   "outputs": [],
   "source": [
    "import requests\n",
    "import json\n",
    "import time\n",
    "import pprint\n",
    "import random\n",
    "\n",
    "# https://developers.google.com/maps/documentation/geocoding/get-api-key#get-an-api-key\n",
    "MAPS_LAT_LONG_URL = \"https://maps.googleapis.com/maps/api/geocode/json?latlng={lat},{long}&key={api_key}\"\n",
    "MAPS_ADDR_URL     = \"https://maps.googleapis.com/maps/api/geocode/json?address={addr}\"\n",
    "with open(\"../keys/google_maps_api_key.txt\") as api_key_file:\n",
    "    API_KEY = api_key_file.readlines()[0].strip()"
   ]
  },
  {
   "cell_type": "code",
   "execution_count": 144,
   "metadata": {
    "collapsed": false
   },
   "outputs": [],
   "source": [
    "# restuarant data\n",
    "# print restaurant_data[\"63763\"] to see example business\n",
    "with open(\"../data/json/restaurant_data_formatted.json\") as json_data:\n",
    "    restaurant_data = json.load(json_data)\n",
    "restaurant_data = restaurant_data[0]"
   ]
  },
  {
   "cell_type": "code",
   "execution_count": 145,
   "metadata": {
    "collapsed": false
   },
   "outputs": [],
   "source": [
    "# print restaurant_data[\"63763\"]"
   ]
  },
  {
   "cell_type": "code",
   "execution_count": 146,
   "metadata": {
    "collapsed": false
   },
   "outputs": [],
   "source": [
    "# @business_id: string id of a business\n",
    "# @url: google maps url to send the post request \n",
    "def send_map_request(business_id, url):\n",
    "    r = requests.post(url)\n",
    "    \n",
    "    # got valid data back\n",
    "    if r.status_code == 200:\n",
    "        d = json.loads(r.text)\n",
    "        try:\n",
    "            for addr_comp in d[\"results\"][0][\"address_components\"]:\n",
    "                if \"neighborhood\" in addr_comp[\"types\"]:\n",
    "                    neighborhood = addr_comp[\"long_name\"]\n",
    "                    return neighborhood\n",
    "        except:\n",
    "            return None\n",
    "            # print \"Failed with business_id: %s: \" % (business_id)\n",
    "            # print r.text\n",
    "    else:\n",
    "        raise ValueError(\"Google Maps API returned status code %d\" % (r.status_code))  \n",
    "        \n",
    "        \n",
    "# def send_map_request(address=None, latitude=None, longitude=None, business_id):\n",
    "#     # use address\n",
    "#     if address:\n",
    "#         url = MAPS_URL.replace(\"{lat}\", str(latitude))\n",
    "#         url = url.replace(\"{long}\", str(longitude))\n",
    "#         url = url.replace(\"{api_key}\", API_KEY)\n",
    "    \n",
    "#     # use latitude + longitude pair\n",
    "#     else:\n",
    "#         r = requests.post(url)\n",
    "\n",
    "#         # valid request\n",
    "#         if r.status_code == 200:\n",
    "#             d = json.loads(r.text)\n",
    "#             try:\n",
    "#                 for addr_comp in d[\"results\"][0][\"address_components\"]:\n",
    "#                     if \"neighborhood\" in addr_comp[\"types\"]:\n",
    "#                         neighborhood = addr_comp[\"long_name\"]\n",
    "#                         return neighborhood\n",
    "#             except:\n",
    "#                 print \"Failed with business_id: %s, got back the following from the server: \" % (business_id)\n",
    "#                 print r.text\n",
    "                \n",
    "#         # invalid request\n",
    "#         else:\n",
    "#             raise ValueError(\"Google Maps API returned status code %d\" % (r.status_code))"
   ]
  },
  {
   "cell_type": "code",
   "execution_count": 149,
   "metadata": {
    "collapsed": false
   },
   "outputs": [],
   "source": [
    "# dict of business ids and neighborhoods\n",
    "# @key:   business_id\n",
    "# @value: neighborhood\n",
    "# neighborhoods = {}\n",
    "\n",
    "# businesses_with_no_google_data = [] # business ids that google doesn't return anything for\n",
    "# businesses_with_no_lat_or_long = [] # business ids that don't have a lat or long \n",
    "\n",
    "# for business_id in restaurant_data:\n",
    "#     business_data = restaurant_data[business_id][\"business_data\"]\n",
    "#     if \"latitude\" in business_data.keys() and \"longitude\" in business_data.keys():\n",
    "#         latitude = business_data[\"latitude\"]\n",
    "#         longitude = business_data[\"longitude\"]\n",
    "\n",
    "#         url = MAPS_LAT_LONG_URL.replace(\"{lat}\", str(latitude))\n",
    "#         url = url.replace(\"{long}\", str(longitude))\n",
    "#         url = url.replace(\"{api_key}\", API_KEY)\n",
    "\n",
    "#         neighborhood = send_map_request(business_id, url)\n",
    "#         if neighborhood != None:\n",
    "#             neighborhoods[business_id] = neighborhood\n",
    "#         else:\n",
    "#             businesses_with_no_google_data.append(business_id)\n",
    "#     else:\n",
    "#         businesses_with_no_lat_or_long.append(business_id)"
   ]
  },
  {
   "cell_type": "code",
   "execution_count": 160,
   "metadata": {
    "collapsed": false
   },
   "outputs": [],
   "source": [
    "# neighborhoods in the chloropleth\n",
    "neighborhoods = [\"Seacliff\",\"Lake Street\",\"Presidio National Park\",\"Presidio Terrace\",\"Inner Richmond\",\n",
    "                 \"Sutro Heights\",\"Lincoln Park / Ft. Miley\",\"Outer Richmond\",\"Golden Gate Park\",\n",
    "                 \"Presidio Heights\",\"Laurel Heights / Jordan Park\",\"Lone Mountain\",\"Anza Vista\",\n",
    "                 \"Cow Hollow\",\"Union Street\",\"Marina\",\"Telegraph Hill\",\"Downtown / Union Square\",\n",
    "                 \"Tenderloin\",\"Civic Center\",\"Hayes Valley\",\"Alamo Square\",\"Panhandle\",\"Haight Ashbury\",\n",
    "                 \"Lower Haight\",\"Mint Hill\",\"Duboce Triangle\",\"Cole Valley\",\"Rincon Hill\",\"South Beach\",\n",
    "                 \"South of Market\",\"Showplace Square\",\"Mission Bay\",\"Yerba Buena Island\",\"Treasure Island\",\n",
    "                 \"Mission Dolores\",\"Castro\",\"Outer Sunset\",\"Parkside\",\"Stonestown\",\"Parkmerced\",\"Lakeshore\",\n",
    "                 \"Golden Gate Heights\",\"Forest Hill\",\"West Portal\",\"Clarendon Heights\",\"Midtown Terrace\",\n",
    "                 \"Laguna Honda\",\"Upper Market\",\"Dolores Heights\",\"Mission\",\"Potrero Hill\",\"Dogpatch\",\n",
    "                 \"Central Waterfront\",\"Diamond Heights\",\"Fairmount\",\"Peralta Heights\",\"Holly Park\",\"Merced Manor\",\n",
    "                 \"Balboa Terrace\",\"Ingleside\",\"Merced Heights\",\"Outer Mission\",\"Ingleside Terraces\",\"Mt. Davidson Manor\",\n",
    "                 \"Monterey Heights\",\"Westwood Highlands\",\"Westwood Park\",\"Miraloma Park\",\"Crocker Amazon\",\"McLaren Park\",\n",
    "                 \"Sunnydale\",\"Visitacion Valley\",\"India Basin\",\"Hunters Point\",\"Candlestick Point SRA\",\"Northern Waterfront\",\n",
    "                 \"Cayuga\",\"Oceanview\",\"Apparel City\",\"Bernal Heights\",\"Noe Valley\",\"Produce Market\",\"Bayview\",\n",
    "                 \"Silver Terrace\",\"Bret Harte\",\"Little Hollywood\",\"Portola\",\"University Mound\",\"St. Marys Park\",\n",
    "                 \"Mission Terrace\",\"Excelsior\",\"Sunnyside\",\"Glen Park\",\"Aquatic Park / Ft. Mason\",\"Fishermans Wharf\",\n",
    "                 \"Cathedral Hill\",\"Japantown\",\"Pacific Heights\",\"Lower Pacific Heights\",\"Western Addition\",\"Chinatown\",\n",
    "                 \"Nob Hill\",\"Lower Nob Hill\",\"Polk Gulch\",\"North Beach\",\"Russian Hill\",\"Financial District\",\n",
    "                 \"Inner Sunset\",\"Parnassus Heights\",\"Forest Knolls\",\"Buena Vista\",\"Corona Heights\",\"Ashbury Heights\",\n",
    "                 \"Eureka Valley\",\"St. Francis Wood\",\"Sherwood Forest\"]"
   ]
  },
  {
   "cell_type": "code",
   "execution_count": 162,
   "metadata": {
    "collapsed": false
   },
   "outputs": [],
   "source": [
    "for business_id in restaurant_data:\n",
    "    restaurant_data[business_id][\"business_data\"][\"neighborhood\"] = random.choice(neighborhoods)\n",
    "    business_data = restaurant_data[business_id][\"business_data\"]"
   ]
  },
  {
   "cell_type": "code",
   "execution_count": 163,
   "metadata": {
    "collapsed": false
   },
   "outputs": [
    {
     "name": "stdout",
     "output_type": "stream",
     "text": [
      "{u'phone_number': None, u'city': u'SF', 'neighborhood': 'Eureka Valley', u'TaxCode': u'H25', u'owner_state': u'CA', u'name': u'Wild Pepper', u'owner_city': u'SF', u'business_id': 63763, u'business_certificate': 451448.0, u'owner_name': u'Eastern Pegasus, Inc.', u'owner_zip': u'94116', u'longitude': -122.42156899999999, u'address': u'3601 26th St ', u'latitude': 37.748813, u'postal_code': u'94110', u'application_date': u'07/22/2010', u'owner_address': u'2338 45th Ave'}\n"
     ]
    }
   ],
   "source": [
    "print restaurant_data[\"63763\"][\"business_data\"]"
   ]
  },
  {
   "cell_type": "code",
   "execution_count": 150,
   "metadata": {
    "collapsed": false
   },
   "outputs": [],
   "source": []
  },
  {
   "cell_type": "code",
   "execution_count": null,
   "metadata": {
    "collapsed": true
   },
   "outputs": [],
   "source": []
  }
 ],
 "metadata": {
  "kernelspec": {
   "display_name": "Python 2",
   "language": "python",
   "name": "python2"
  },
  "language_info": {
   "codemirror_mode": {
    "name": "ipython",
    "version": 2
   },
   "file_extension": ".py",
   "mimetype": "text/x-python",
   "name": "python",
   "nbconvert_exporter": "python",
   "pygments_lexer": "ipython2",
   "version": "2.7.10"
  }
 },
 "nbformat": 4,
 "nbformat_minor": 0
}
