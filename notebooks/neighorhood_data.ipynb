{
 "cells": [
  {
   "cell_type": "markdown",
   "metadata": {},
   "source": [
    "# Creates restaurant_data_filtered.json"
   ]
  },
  {
   "cell_type": "code",
   "execution_count": 5,
   "metadata": {
    "collapsed": false
   },
   "outputs": [],
   "source": [
    "import requests\n",
    "import json\n",
    "import time\n",
    "import pprint\n",
    "import random\n",
    "import sys\n",
    "\n",
    "# https://developers.google.com/maps/documentation/geocoding/get-api-key#get-an-api-key\n",
    "MAPS_LAT_LONG_URL = \"https://maps.googleapis.com/maps/api/geocode/json?latlng={lat},{long}&key={api_key}\"\n",
    "MAPS_ADDR_URL     = \"https://maps.googleapis.com/maps/api/geocode/json?address={addr}\"\n",
    "with open(\"../keys/google_maps_api_key.txt\") as api_key_file:\n",
    "    API_KEY = api_key_file.readlines()[0].strip()"
   ]
  },
  {
   "cell_type": "code",
   "execution_count": 6,
   "metadata": {
    "collapsed": false
   },
   "outputs": [],
   "source": [
    "# restuarant data\n",
    "# print restaurant_data[\"63763\"] to see example business\n",
    "with open(\"../data/json/restaurant_data_formatted.json\") as json_data:\n",
    "    restaurant_data = json.load(json_data)\n",
    "restaurant_data = restaurant_data[0]"
   ]
  },
  {
   "cell_type": "code",
   "execution_count": 7,
   "metadata": {
    "collapsed": false
   },
   "outputs": [],
   "source": [
    "# print restaurant_data[\"63763\"]"
   ]
  },
  {
   "cell_type": "code",
   "execution_count": 8,
   "metadata": {
    "collapsed": false
   },
   "outputs": [],
   "source": [
    "# @business_id: string id of a business\n",
    "# @url: google maps url to send the post request \n",
    "def send_map_request(business_id, url):\n",
    "    r = requests.post(url)\n",
    "    \n",
    "    # got valid data back\n",
    "    if r.status_code == 200:\n",
    "        d = json.loads(r.text)\n",
    "        try:\n",
    "            for addr_comp in d[\"results\"][0][\"address_components\"]:\n",
    "                if \"neighborhood\" in addr_comp[\"types\"]:\n",
    "                    neighborhood = addr_comp[\"long_name\"]\n",
    "                    return neighborhood\n",
    "        except:\n",
    "            return None\n",
    "    else:\n",
    "        raise ValueError(\"Google Maps API returned status code %d\" % (r.status_code))  "
   ]
  },
  {
   "cell_type": "code",
   "execution_count": 9,
   "metadata": {
    "collapsed": false
   },
   "outputs": [],
   "source": [
    "# dict of business ids and neighborhoods\n",
    "# @key:   business_id\n",
    "# @value: neighborhood\n",
    "# neighborhoods = {}\n",
    "\n",
    "# businesses_with_no_google_data = [] # business ids that google doesn't return anything for\n",
    "# businesses_with_no_lat_or_long = [] # business ids that don't have a lat or long \n",
    "\n",
    "# for business_id in restaurant_data:\n",
    "#     business_data = restaurant_data[business_id][\"business_data\"]\n",
    "#     if \"latitude\" in business_data.keys() and \"longitude\" in business_data.keys():\n",
    "#         latitude = business_data[\"latitude\"]\n",
    "#         longitude = business_data[\"longitude\"]\n",
    "\n",
    "#         url = MAPS_LAT_LONG_URL.replace(\"{lat}\", str(latitude))\n",
    "#         url = url.replace(\"{long}\", str(longitude))\n",
    "#         url = url.replace(\"{api_key}\", API_KEY)\n",
    "\n",
    "#         neighborhood = send_map_request(business_id, url)\n",
    "#         if neighborhood != None:\n",
    "#             neighborhoods[business_id] = neighborhood\n",
    "#         else:\n",
    "#             businesses_with_no_google_data.append(business_id)\n",
    "#     else:\n",
    "#         businesses_with_no_lat_or_long.append(business_id)"
   ]
  },
  {
   "cell_type": "code",
   "execution_count": 16,
   "metadata": {
    "collapsed": false
   },
   "outputs": [],
   "source": [
    "# RUN ON 4/17\n",
    "\n",
    "# # save neighborhoods to a file\n",
    "# f = open(\"../data/neighborhood/neighborhoods_v2_0_2500.txt\", 'a')\n",
    "# count = 0\n",
    "# for business_id in restaurant_data.keys()[2500:]:\n",
    "#     business_data = restaurant_data[business_id][\"business_data\"]\n",
    "    \n",
    "#     if \"latitude\" in business_data.keys() and \"longitude\" in business_data.keys():\n",
    "#         latitude = business_data[\"latitude\"]\n",
    "#         longitude = business_data[\"longitude\"]\n",
    "\n",
    "#         url = MAPS_LAT_LONG_URL.replace(\"{lat}\", str(latitude))\n",
    "#         url = url.replace(\"{long}\", str(longitude))\n",
    "#         url = url.replace(\"{api_key}\", API_KEY)\n",
    "\n",
    "#         neighborhood = send_map_request(business_id, url)\n",
    "#         if neighborhood != None:\n",
    "#             f.write(business_id + \": \" + neighborhood + \"\\n\")\n",
    "#         else:\n",
    "#             f.write(business_id + \": N/A\\n\")\n",
    "            \n",
    "#     # log\n",
    "#     count += 1\n",
    "#     sys.stdout.write(\"\\rCompleted first %d businesses\" % count)\n",
    "# f.close()"
   ]
  },
  {
   "cell_type": "code",
   "execution_count": 11,
   "metadata": {
    "collapsed": false
   },
   "outputs": [],
   "source": [
    "# restaurant_data['5988']\n",
    "# for i in xrange(10):\n",
    "#     sys.stdout.write(\"\\r%d\" % (i))"
   ]
  },
  {
   "cell_type": "code",
   "execution_count": 12,
   "metadata": {
    "collapsed": false
   },
   "outputs": [
    {
     "data": {
      "text/plain": [
       "4669"
      ]
     },
     "execution_count": 12,
     "metadata": {},
     "output_type": "execute_result"
    }
   ],
   "source": [
    "len(restaurant_data.keys())"
   ]
  },
  {
   "cell_type": "code",
   "execution_count": null,
   "metadata": {
    "collapsed": true
   },
   "outputs": [],
   "source": []
  }
 ],
 "metadata": {
  "kernelspec": {
   "display_name": "Python 2",
   "language": "python",
   "name": "python2"
  },
  "language_info": {
   "codemirror_mode": {
    "name": "ipython",
    "version": 2
   },
   "file_extension": ".py",
   "mimetype": "text/x-python",
   "name": "python",
   "nbconvert_exporter": "python",
   "pygments_lexer": "ipython2",
   "version": "2.7.10"
  }
 },
 "nbformat": 4,
 "nbformat_minor": 0
}
