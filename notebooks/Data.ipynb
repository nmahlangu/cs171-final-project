{
 "cells": [
  {
   "cell_type": "markdown",
   "metadata": {},
   "source": [
    "# Data"
   ]
  },
  {
   "cell_type": "code",
   "execution_count": 49,
   "metadata": {
    "collapsed": false
   },
   "outputs": [],
   "source": [
    "import pandas as pd\n",
    "\n",
    "MOBILE_FOOD_SCHEDULE = \"../data/mobile_food_schedule/\"\n",
    "RESTAURANT_SCORES = \"../data/restaurant_scores/SFFoodProgram_Complete_Data/\"\n",
    "\n",
    "mobile_food_data_df = pd.read_csv(MOBILE_FOOD_SCHEDULE + \"Mobile_Food_Schedule.csv\")\n",
    "businesses_plus_df = pd.read_csv(RESTAURANT_SCORES + \"businesses_plus.csv\")\n",
    "inspections_plus_df = pd.read_csv(RESTAURANT_SCORES + \"inspections_plus.csv\")\n",
    "violations_plus_df = pd.read_csv(RESTAURANT_SCORES + \"violations_plus.csv\")"
   ]
  },
  {
   "cell_type": "code",
   "execution_count": 72,
   "metadata": {
    "collapsed": false
   },
   "outputs": [],
   "source": [
    "# create dict from violation, inspection, and business data\n",
    "# key is a business_id\n",
    "all_data = {}\n",
    "\n",
    "# add business data\n",
    "for index, row in businesses_plus_df.iterrows():\n",
    "    all_data.setdefault(row[\"business_id\"], {\"business_data\": {}, \"inspection_data\": [], \"violation_data\": []})\n",
    "    for col in businesses_plus_df.columns.values.tolist():\n",
    "        all_data[row[\"business_id\"]][\"business_data\"][col] = row[col]\n",
    "        \n",
    "# add inspection data\n",
    "for index, row in inspections_plus_df.iterrows():\n",
    "    all_data.setdefault(row[\"business_id\"], {\"business_data\": {}, \"inspection_data\": [], \"violation_data\": []})\n",
    "    obj = {}\n",
    "    for col in inspections_plus_df.columns.values.tolist():\n",
    "        obj[col] = row[col]\n",
    "    all_data[row[\"business_id\"]][\"inspection_data\"].append(obj)\n",
    "        \n",
    "# add violation data\n",
    "for index, row in violations_plus_df.iterrows():\n",
    "    all_data.setdefault(row[\"business_id\"], {\"business_data\": {}, \"inspection_data\": [], \"violation_data\": []})\n",
    "    obj = {}\n",
    "    for col in violations_plus_df.columns.values.tolist():\n",
    "        obj[col] = row[col]\n",
    "    all_data[row[\"business_id\"]][\"violation_data\"].append(obj)"
   ]
  },
  {
   "cell_type": "code",
   "execution_count": 73,
   "metadata": {
    "collapsed": false
   },
   "outputs": [],
   "source": [
    "# uncomment and run for an example of above\n",
    "# all_data[538] for an example"
   ]
  },
  {
   "cell_type": "code",
   "execution_count": null,
   "metadata": {
    "collapsed": true
   },
   "outputs": [],
   "source": []
  }
 ],
 "metadata": {
  "kernelspec": {
   "display_name": "Python 2",
   "language": "python",
   "name": "python2"
  },
  "language_info": {
   "codemirror_mode": {
    "name": "ipython",
    "version": 2
   },
   "file_extension": ".py",
   "mimetype": "text/x-python",
   "name": "python",
   "nbconvert_exporter": "python",
   "pygments_lexer": "ipython2",
   "version": "2.7.10"
  }
 },
 "nbformat": 4,
 "nbformat_minor": 0
}
