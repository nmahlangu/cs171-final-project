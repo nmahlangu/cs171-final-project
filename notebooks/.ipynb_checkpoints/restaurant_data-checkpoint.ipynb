{
 "cells": [
  {
   "cell_type": "markdown",
   "metadata": {},
   "source": [
    "# Data"
   ]
  },
  {
   "cell_type": "code",
   "execution_count": 287,
   "metadata": {
    "collapsed": false
   },
   "outputs": [],
   "source": [
    "import pandas as pd\n",
    "import json as json\n",
    "import math\n",
    "import random\n",
    "import pprint\n",
    "\n",
    "MOBILE_FOOD_SCHEDULE = \"../data/mobile_food_schedule/\"\n",
    "RESTAURANT_SCORES    = \"../data/restaurant_scores/SFFoodProgram_Complete_Data/\"\n",
    "OUTPUT_PATH          = \"../data/json/\"\n",
    "\n",
    "mobile_food_data_df = pd.read_csv(MOBILE_FOOD_SCHEDULE + \"Mobile_Food_Schedule.csv\")\n",
    "businesses_plus_df  = pd.read_csv(RESTAURANT_SCORES + \"businesses_plus.csv\", encoding='latin-1')\n",
    "inspections_plus_df = pd.read_csv(RESTAURANT_SCORES + \"inspections_plus.csv\", encoding='latin-1')\n",
    "violations_plus_df  = pd.read_csv(RESTAURANT_SCORES + \"violations_plus.csv\", encoding='latin-1')"
   ]
  },
  {
   "cell_type": "code",
   "execution_count": 288,
   "metadata": {
    "collapsed": false
   },
   "outputs": [],
   "source": [
    "# Create dict from violation, inspection, and business data\n",
    "# @key: a business id\n",
    "# @value: dictionary of dictionaries containing\n",
    "# \n",
    "# all data is encoded as utf-8\n",
    "# print all_data[538] for an example\n",
    "all_restaurant_data = {}\n",
    "\n",
    "# add business data\n",
    "for index, row in businesses_plus_df.iterrows():\n",
    "    all_restaurant_data.setdefault(row[\"business_id\"], {\"business_data\": {}, \"inspection_data\": [], \"violation_data\": []})\n",
    "    for col in businesses_plus_df.columns.values.tolist():\n",
    "        datum = row[col].encode('utf-8') if type(row[col]) == type(\"s\") else row[col]\n",
    "        if type(datum) == type(3.14) and math.isnan(datum):\n",
    "            datum = None\n",
    "        all_restaurant_data[row[\"business_id\"]][\"business_data\"][col] = datum\n",
    "        \n",
    "# add inspection data\n",
    "for index, row in inspections_plus_df.iterrows():\n",
    "    all_restaurant_data.setdefault(row[\"business_id\"], {\"business_data\": {}, \"inspection_data\": [], \"violation_data\": []})\n",
    "    obj = {}\n",
    "    for col in inspections_plus_df.columns.values.tolist():\n",
    "        datum = row[col].encode('utf-8') if type(row[col]) == type(\"s\") else row[col]\n",
    "        if type(datum) == type(3.14) and math.isnan(datum):\n",
    "            datum = None\n",
    "        obj[col] = datum\n",
    "    all_restaurant_data[row[\"business_id\"]][\"inspection_data\"].append(obj)\n",
    "        \n",
    "# add violation data\n",
    "for index, row in violations_plus_df.iterrows():\n",
    "    all_restaurant_data.setdefault(row[\"business_id\"], {\"business_data\": {}, \"inspection_data\": [], \"violation_data\": []})\n",
    "    obj = {}\n",
    "    for col in violations_plus_df.columns.values.tolist():\n",
    "        datum = row[col].encode('utf-8') if type(row[col]) == type(\"s\") else row[col]\n",
    "        if type(datum) == type(3.14) and math.isnan(datum):\n",
    "            datum = None\n",
    "        obj[col] = datum\n",
    "    all_restaurant_data[row[\"business_id\"]][\"violation_data\"].append(obj)"
   ]
  },
  {
   "cell_type": "code",
   "execution_count": 289,
   "metadata": {
    "collapsed": false
   },
   "outputs": [],
   "source": [
    "# create dict from mobile food data\n",
    "mobile_food_data = []\n",
    "for index, row in mobile_food_data_df.iterrows():\n",
    "        obj = {}\n",
    "        for col in mobile_food_data_df.columns.values.tolist():\n",
    "            datum = row[col]\n",
    "            if type(datum) == type(3.14) and math.isnan(datum):\n",
    "                datum = None\n",
    "            obj[col] = datum\n",
    "        mobile_food_data.append(obj)"
   ]
  },
  {
   "cell_type": "code",
   "execution_count": 290,
   "metadata": {
    "collapsed": false
   },
   "outputs": [],
   "source": [
    "# insert neighborhoods from the chloropleth\n",
    "neighborhoods = [\"Seacliff\",\"Lake Street\",\"Presidio National Park\",\"Presidio Terrace\",\"Inner Richmond\",\n",
    "                 \"Sutro Heights\",\"Lincoln Park / Ft. Miley\",\"Outer Richmond\",\"Golden Gate Park\",\n",
    "                 \"Presidio Heights\",\"Laurel Heights / Jordan Park\",\"Lone Mountain\",\"Anza Vista\",\n",
    "                 \"Cow Hollow\",\"Union Street\",\"Marina\",\"Telegraph Hill\",\"Downtown / Union Square\",\n",
    "                 \"Tenderloin\",\"Civic Center\",\"Hayes Valley\",\"Alamo Square\",\"Panhandle\",\"Haight Ashbury\",\n",
    "                 \"Lower Haight\",\"Mint Hill\",\"Duboce Triangle\",\"Cole Valley\",\"Rincon Hill\",\"South Beach\",\n",
    "                 \"South of Market\",\"Showplace Square\",\"Mission Bay\",\"Yerba Buena Island\",\"Treasure Island\",\n",
    "                 \"Mission Dolores\",\"Castro\",\"Outer Sunset\",\"Parkside\",\"Stonestown\",\"Parkmerced\",\"Lakeshore\",\n",
    "                 \"Golden Gate Heights\",\"Forest Hill\",\"West Portal\",\"Clarendon Heights\",\"Midtown Terrace\",\n",
    "                 \"Laguna Honda\",\"Upper Market\",\"Dolores Heights\",\"Mission\",\"Potrero Hill\",\"Dogpatch\",\n",
    "                 \"Central Waterfront\",\"Diamond Heights\",\"Fairmount\",\"Peralta Heights\",\"Holly Park\",\"Merced Manor\",\n",
    "                 \"Balboa Terrace\",\"Ingleside\",\"Merced Heights\",\"Outer Mission\",\"Ingleside Terraces\",\"Mt. Davidson Manor\",\n",
    "                 \"Monterey Heights\",\"Westwood Highlands\",\"Westwood Park\",\"Miraloma Park\",\"Crocker Amazon\",\"McLaren Park\",\n",
    "                 \"Sunnydale\",\"Visitacion Valley\",\"India Basin\",\"Hunters Point\",\"Candlestick Point SRA\",\"Northern Waterfront\",\n",
    "                 \"Cayuga\",\"Oceanview\",\"Apparel City\",\"Bernal Heights\",\"Noe Valley\",\"Produce Market\",\"Bayview\",\n",
    "                 \"Silver Terrace\",\"Bret Harte\",\"Little Hollywood\",\"Portola\",\"University Mound\",\"St. Marys Park\",\n",
    "                 \"Mission Terrace\",\"Excelsior\",\"Sunnyside\",\"Glen Park\",\"Aquatic Park / Ft. Mason\",\"Fishermans Wharf\",\n",
    "                 \"Cathedral Hill\",\"Japantown\",\"Pacific Heights\",\"Lower Pacific Heights\",\"Western Addition\",\"Chinatown\",\n",
    "                 \"Nob Hill\",\"Lower Nob Hill\",\"Polk Gulch\",\"North Beach\",\"Russian Hill\",\"Financial District\",\n",
    "                 \"Inner Sunset\",\"Parnassus Heights\",\"Forest Knolls\",\"Buena Vista\",\"Corona Heights\",\"Ashbury Heights\",\n",
    "                 \"Eureka Valley\",\"St. Francis Wood\",\"Sherwood Forest\"]\n",
    "\n",
    "for business_id in all_restaurant_data:\n",
    "    all_restaurant_data[business_id][\"business_data\"][\"neighborhood\"] = random.choice(neighborhoods)"
   ]
  },
  {
   "cell_type": "code",
   "execution_count": 291,
   "metadata": {
    "collapsed": false
   },
   "outputs": [
    {
     "name": "stdout",
     "output_type": "stream",
     "text": [
      "Data PRE-filter length:  7622\n",
      "Data POST-filter length:  4669\n"
     ]
    }
   ],
   "source": [
    "# remove business that are missing longitude or latitude data\n",
    "print \"Data PRE-filter length: \", len(all_restaurant_data.keys())\n",
    "all_restaurant_data = {k:v for k,v in all_restaurant_data.iteritems() if (\"latitude\" in v[\"business_data\"]) and (v[\"business_data\"][\"latitude\"]) and (\"longitude\" in v[\"business_data\"]) and (v[\"business_data\"][\"longitude\"])}\n",
    "print \"Data POST-filter length: \", len(all_restaurant_data.keys())"
   ]
  },
  {
   "cell_type": "code",
   "execution_count": 292,
   "metadata": {
    "collapsed": false,
    "scrolled": true
   },
   "outputs": [],
   "source": [
    "# write data to files in JSON format\n",
    "\n",
    "# mobile food data\n",
    "with open(OUTPUT_PATH + \"mobile_food_data.json\", \"w\") as outfile:\n",
    "    json.dump(mobile_food_data, outfile)\n",
    "\n",
    "# violation, inspection, and business data\n",
    "with open(OUTPUT_PATH + \"restaurant_data.json\", \"w\") as outfile:\n",
    "    json.dump([all_restaurant_data], outfile)"
   ]
  },
  {
   "cell_type": "markdown",
   "metadata": {
    "collapsed": true
   },
   "source": [
    "# Neighborhood Data"
   ]
  },
  {
   "cell_type": "code",
   "execution_count": 293,
   "metadata": {
    "collapsed": false
   },
   "outputs": [],
   "source": [
    "# takes a neighborhood and returns average of all of the most\n",
    "# recent inspection scores recorded in that neighborhood.\n",
    "# @neighborhood:string: a neighborhood name\n",
    "def calculate_avg_inspection_score(neighborhood):\n",
    "    total_score = 0.0\n",
    "    num_scores_added = 0\n",
    "    for business_id in all_restaurant_data:\n",
    "        if all_restaurant_data[business_id][\"business_data\"][\"neighborhood\"] == neighborhood:\n",
    "            inspection_data = filter(lambda elt: elt[\"Score\"] != None, all_restaurant_data[business_id][\"inspection_data\"])\n",
    "            if len(inspection_data) > 0:\n",
    "                inspection_data.sort(key=lambda x: x[\"Score\"])\n",
    "                total_score += inspection_data[0][\"Score\"]\n",
    "                num_scores_added += 1\n",
    "    return total_score / num_scores_added\n",
    "    \n",
    "# takes a neighborhood and returns average number of violations per\n",
    "# restaurant in that neighborhood\n",
    "def calculate_avg_violation_score(neighborhood):\n",
    "    total_score = 0.0\n",
    "    num_scores_added = 0\n",
    "    for business_id in all_restaurant_data:\n",
    "        if all_restaurant_data[business_id][\"business_data\"][\"neighborhood\"] == neighborhood:\n",
    "            violation_data = all_restaurant_data[business_id][\"violation_data\"]\n",
    "            total_score += len(violation_data)\n",
    "            num_scores_added += 1\n",
    "    return total_score / num_scores_added"
   ]
  },
  {
   "cell_type": "code",
   "execution_count": 294,
   "metadata": {
    "collapsed": false
   },
   "outputs": [],
   "source": [
    "# dict of violation and inspection data for choropleth\n",
    "# @key:string: a neighborhood\n",
    "# @value:dict: dict of dicts\n",
    "chloropleth_data = {n: {\"avg_inspection_score\": calculate_avg_inspection_score(n), \n",
    "                        \"avg_violation_score\": calculate_avg_violation_score(n)} for n in neighborhoods}"
   ]
  },
  {
   "cell_type": "code",
   "execution_count": 295,
   "metadata": {
    "collapsed": false
   },
   "outputs": [],
   "source": [
    "# write chloropleth data to json file\n",
    "with open(OUTPUT_PATH + \"chloropleth_data.json\", \"w\") as outfile:\n",
    "    json.dump(chloropleth_data, outfile)"
   ]
  },
  {
   "cell_type": "code",
   "execution_count": null,
   "metadata": {
    "collapsed": false
   },
   "outputs": [],
   "source": []
  },
  {
   "cell_type": "code",
   "execution_count": null,
   "metadata": {
    "collapsed": true
   },
   "outputs": [],
   "source": []
  }
 ],
 "metadata": {
  "kernelspec": {
   "display_name": "Python 2",
   "language": "python",
   "name": "python2"
  },
  "language_info": {
   "codemirror_mode": {
    "name": "ipython",
    "version": 2
   },
   "file_extension": ".py",
   "mimetype": "text/x-python",
   "name": "python",
   "nbconvert_exporter": "python",
   "pygments_lexer": "ipython2",
   "version": "2.7.10"
  }
 },
 "nbformat": 4,
 "nbformat_minor": 0
}
